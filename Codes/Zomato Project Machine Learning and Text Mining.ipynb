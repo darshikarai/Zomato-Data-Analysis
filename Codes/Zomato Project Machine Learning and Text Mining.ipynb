{
 "cells": [
  {
   "cell_type": "markdown",
   "metadata": {},
   "source": [
    "# ML Models On Cleaned DataSet"
   ]
  },
  {
   "cell_type": "code",
   "execution_count": 1,
   "metadata": {},
   "outputs": [
    {
     "data": {
      "text/html": [
       "<div>\n",
       "<style scoped>\n",
       "    .dataframe tbody tr th:only-of-type {\n",
       "        vertical-align: middle;\n",
       "    }\n",
       "\n",
       "    .dataframe tbody tr th {\n",
       "        vertical-align: top;\n",
       "    }\n",
       "\n",
       "    .dataframe thead th {\n",
       "        text-align: right;\n",
       "    }\n",
       "</style>\n",
       "<table border=\"1\" class=\"dataframe\">\n",
       "  <thead>\n",
       "    <tr style=\"text-align: right;\">\n",
       "      <th></th>\n",
       "      <th>Restaurant ID</th>\n",
       "      <th>Restaurant Name</th>\n",
       "      <th>Longitude</th>\n",
       "      <th>Latitude</th>\n",
       "      <th>Average Cost for two</th>\n",
       "      <th>Has Table booking</th>\n",
       "      <th>Has Online delivery</th>\n",
       "      <th>Is delivering now</th>\n",
       "      <th>Price range</th>\n",
       "      <th>Votes</th>\n",
       "      <th>...</th>\n",
       "      <th>City_New Delhi</th>\n",
       "      <th>City_Noida</th>\n",
       "      <th>City_Pune</th>\n",
       "      <th>City_Secunderabad</th>\n",
       "      <th>City_Surat</th>\n",
       "      <th>City_Vellore</th>\n",
       "      <th>City_Vijayawada</th>\n",
       "      <th>City_Vizag</th>\n",
       "      <th>Rating text</th>\n",
       "      <th>Aggregate rating</th>\n",
       "    </tr>\n",
       "  </thead>\n",
       "  <tbody>\n",
       "    <tr>\n",
       "      <th>0</th>\n",
       "      <td>18763512</td>\n",
       "      <td>BarBerry</td>\n",
       "      <td>0.000000</td>\n",
       "      <td>0.000000</td>\n",
       "      <td>1200.0</td>\n",
       "      <td>0.0</td>\n",
       "      <td>0.0</td>\n",
       "      <td>0</td>\n",
       "      <td>3.0</td>\n",
       "      <td>680.0</td>\n",
       "      <td>...</td>\n",
       "      <td>0</td>\n",
       "      <td>0</td>\n",
       "      <td>1</td>\n",
       "      <td>0</td>\n",
       "      <td>0</td>\n",
       "      <td>0</td>\n",
       "      <td>0</td>\n",
       "      <td>0</td>\n",
       "      <td>5</td>\n",
       "      <td>4.7</td>\n",
       "    </tr>\n",
       "    <tr>\n",
       "      <th>1</th>\n",
       "      <td>18528478</td>\n",
       "      <td>La Gustosa</td>\n",
       "      <td>73.814681</td>\n",
       "      <td>18.502095</td>\n",
       "      <td>1200.0</td>\n",
       "      <td>0.0</td>\n",
       "      <td>0.0</td>\n",
       "      <td>0</td>\n",
       "      <td>3.0</td>\n",
       "      <td>1484.0</td>\n",
       "      <td>...</td>\n",
       "      <td>0</td>\n",
       "      <td>0</td>\n",
       "      <td>1</td>\n",
       "      <td>0</td>\n",
       "      <td>0</td>\n",
       "      <td>0</td>\n",
       "      <td>0</td>\n",
       "      <td>0</td>\n",
       "      <td>5</td>\n",
       "      <td>4.5</td>\n",
       "    </tr>\n",
       "  </tbody>\n",
       "</table>\n",
       "<p>2 rows × 105 columns</p>\n",
       "</div>"
      ],
      "text/plain": [
       "   Restaurant ID Restaurant Name  Longitude   Latitude  Average Cost for two  \\\n",
       "0       18763512        BarBerry   0.000000   0.000000                1200.0   \n",
       "1       18528478      La Gustosa  73.814681  18.502095                1200.0   \n",
       "\n",
       "   Has Table booking  Has Online delivery  Is delivering now  Price range  \\\n",
       "0                0.0                  0.0                  0          3.0   \n",
       "1                0.0                  0.0                  0          3.0   \n",
       "\n",
       "    Votes  ...  City_New Delhi  City_Noida  City_Pune  City_Secunderabad  \\\n",
       "0   680.0  ...               0           0          1                  0   \n",
       "1  1484.0  ...               0           0          1                  0   \n",
       "\n",
       "   City_Surat  City_Vellore  City_Vijayawada  City_Vizag  Rating text  \\\n",
       "0           0             0                0           0            5   \n",
       "1           0             0                0           0            5   \n",
       "\n",
       "   Aggregate rating  \n",
       "0               4.7  \n",
       "1               4.5  \n",
       "\n",
       "[2 rows x 105 columns]"
      ]
     },
     "execution_count": 1,
     "metadata": {},
     "output_type": "execute_result"
    }
   ],
   "source": [
    "import numpy as np\n",
    "import pandas as pd\n",
    "df = pd.read_csv(r'E:\\c drive\\Downloads\\proj\\CS-ML-master\\CS-ML-master\\04-Zomato\\Dataset\\ZomatoIndiaCleaned6.csv')\n",
    "df.drop('Unnamed: 0',axis=1,inplace=True)\n",
    "df2=df.copy()\n",
    "df2.head(2)"
   ]
  },
  {
   "cell_type": "code",
   "execution_count": 2,
   "metadata": {},
   "outputs": [
    {
     "data": {
      "text/html": [
       "<div>\n",
       "<style scoped>\n",
       "    .dataframe tbody tr th:only-of-type {\n",
       "        vertical-align: middle;\n",
       "    }\n",
       "\n",
       "    .dataframe tbody tr th {\n",
       "        vertical-align: top;\n",
       "    }\n",
       "\n",
       "    .dataframe thead th {\n",
       "        text-align: right;\n",
       "    }\n",
       "</style>\n",
       "<table border=\"1\" class=\"dataframe\">\n",
       "  <thead>\n",
       "    <tr style=\"text-align: right;\">\n",
       "      <th></th>\n",
       "      <th>Restaurant ID</th>\n",
       "      <th>Restaurant Name</th>\n",
       "      <th>Longitude</th>\n",
       "      <th>Latitude</th>\n",
       "      <th>Average Cost for two</th>\n",
       "      <th>Has Table booking</th>\n",
       "      <th>Has Online delivery</th>\n",
       "      <th>Is delivering now</th>\n",
       "      <th>Price range</th>\n",
       "      <th>Votes</th>\n",
       "      <th>...</th>\n",
       "      <th>City_New Delhi</th>\n",
       "      <th>City_Noida</th>\n",
       "      <th>City_Pune</th>\n",
       "      <th>City_Secunderabad</th>\n",
       "      <th>City_Surat</th>\n",
       "      <th>City_Vellore</th>\n",
       "      <th>City_Vijayawada</th>\n",
       "      <th>City_Vizag</th>\n",
       "      <th>Rating text</th>\n",
       "      <th>Aggregate rating</th>\n",
       "    </tr>\n",
       "  </thead>\n",
       "  <tbody>\n",
       "    <tr>\n",
       "      <th>1855</th>\n",
       "      <td>95780</td>\n",
       "      <td>Al Zaara Matbaq Al Mandi</td>\n",
       "      <td>78.424642</td>\n",
       "      <td>17.396994</td>\n",
       "      <td>500.0</td>\n",
       "      <td>0.0</td>\n",
       "      <td>0.0</td>\n",
       "      <td>0</td>\n",
       "      <td>2.0</td>\n",
       "      <td>768.0</td>\n",
       "      <td>...</td>\n",
       "      <td>0</td>\n",
       "      <td>0</td>\n",
       "      <td>0</td>\n",
       "      <td>0</td>\n",
       "      <td>0</td>\n",
       "      <td>0</td>\n",
       "      <td>0</td>\n",
       "      <td>0</td>\n",
       "      <td>3</td>\n",
       "      <td>3.7</td>\n",
       "    </tr>\n",
       "    <tr>\n",
       "      <th>2239</th>\n",
       "      <td>3300748</td>\n",
       "      <td>Panino The Sandwich World</td>\n",
       "      <td>79.079527</td>\n",
       "      <td>21.171776</td>\n",
       "      <td>400.0</td>\n",
       "      <td>0.0</td>\n",
       "      <td>1.0</td>\n",
       "      <td>0</td>\n",
       "      <td>2.0</td>\n",
       "      <td>931.0</td>\n",
       "      <td>...</td>\n",
       "      <td>0</td>\n",
       "      <td>0</td>\n",
       "      <td>0</td>\n",
       "      <td>0</td>\n",
       "      <td>0</td>\n",
       "      <td>0</td>\n",
       "      <td>0</td>\n",
       "      <td>0</td>\n",
       "      <td>4</td>\n",
       "      <td>4.1</td>\n",
       "    </tr>\n",
       "  </tbody>\n",
       "</table>\n",
       "<p>2 rows × 105 columns</p>\n",
       "</div>"
      ],
      "text/plain": [
       "      Restaurant ID            Restaurant Name  Longitude   Latitude  \\\n",
       "1855          95780   Al Zaara Matbaq Al Mandi  78.424642  17.396994   \n",
       "2239        3300748  Panino The Sandwich World  79.079527  21.171776   \n",
       "\n",
       "      Average Cost for two  Has Table booking  Has Online delivery  \\\n",
       "1855                 500.0                0.0                  0.0   \n",
       "2239                 400.0                0.0                  1.0   \n",
       "\n",
       "      Is delivering now  Price range  Votes  ...  City_New Delhi  City_Noida  \\\n",
       "1855                  0          2.0  768.0  ...               0           0   \n",
       "2239                  0          2.0  931.0  ...               0           0   \n",
       "\n",
       "      City_Pune  City_Secunderabad  City_Surat  City_Vellore  City_Vijayawada  \\\n",
       "1855          0                  0           0             0                0   \n",
       "2239          0                  0           0             0                0   \n",
       "\n",
       "      City_Vizag  Rating text  Aggregate rating  \n",
       "1855           0            3               3.7  \n",
       "2239           0            4               4.1  \n",
       "\n",
       "[2 rows x 105 columns]"
      ]
     },
     "execution_count": 2,
     "metadata": {},
     "output_type": "execute_result"
    }
   ],
   "source": [
    "from sklearn.utils import shuffle\n",
    "df2 = shuffle(df2) #Shuffling the data\n",
    "df2.head(2)"
   ]
  },
  {
   "cell_type": "code",
   "execution_count": 3,
   "metadata": {
    "scrolled": true
   },
   "outputs": [
    {
     "data": {
      "text/plain": [
       "(2309, 105)"
      ]
     },
     "execution_count": 3,
     "metadata": {},
     "output_type": "execute_result"
    }
   ],
   "source": [
    "df2.shape"
   ]
  },
  {
   "cell_type": "markdown",
   "metadata": {},
   "source": [
    "## Let us build a Classification Model for Prediciting the rating of a restaurant.\n",
    "### Target Value: Rating Text (Values: 1,2,3,4,5)"
   ]
  },
  {
   "cell_type": "markdown",
   "metadata": {},
   "source": [
    "## My approach is that first I would like to Visualize how each feature is related to the target value and accordingly i'll train my algorithms\n",
    "\n",
    "## So i built a heat map"
   ]
  },
  {
   "cell_type": "code",
   "execution_count": 4,
   "metadata": {},
   "outputs": [
    {
     "data": {
      "text/plain": [
       "Average Cost for two     True\n",
       "Has Table booking       False\n",
       "Has Online delivery     False\n",
       "Is delivering now       False\n",
       "Price range              True\n",
       "Votes                   False\n",
       "Rating text              True\n",
       "dtype: bool"
      ]
     },
     "execution_count": 4,
     "metadata": {},
     "output_type": "execute_result"
    }
   ],
   "source": [
    "cols = ['Average Cost for two', 'Has Table booking', 'Has Online delivery',  'Is delivering now', 'Price range', 'Votes', 'Rating text',]\n",
    "df2[cols].all() #check for null values"
   ]
  },
  {
   "cell_type": "code",
   "execution_count": 5,
   "metadata": {},
   "outputs": [
    {
     "data": {
      "text/plain": [
       "array([[500,   0,   0, ...,   2, 768,   3],\n",
       "       [400,   0,   1, ...,   2, 931,   4],\n",
       "       [350,   0,   1, ...,   2,  73,   3],\n",
       "       ...,\n",
       "       [350,   0,   0, ...,   2,  20,   2],\n",
       "       [350,   0,   0, ...,   2,   5,   2],\n",
       "       [500,   0,   1, ...,   2, 191,   3]])"
      ]
     },
     "execution_count": 5,
     "metadata": {},
     "output_type": "execute_result"
    }
   ],
   "source": [
    "df2[cols]=df2[cols].astype(int,inplace=True)\n",
    "df2[cols].values"
   ]
  },
  {
   "cell_type": "code",
   "execution_count": 6,
   "metadata": {
    "scrolled": true
   },
   "outputs": [
    {
     "data": {
      "text/plain": [
       "array([[ 1.        ,  0.24991826, -0.15103636, -0.10163419,  0.83299028,\n",
       "         0.35753006,  0.41648816],\n",
       "       [ 0.24991826,  1.        , -0.009507  ,  0.08230408,  0.20791584,\n",
       "         0.10151748,  0.1272509 ],\n",
       "       [-0.15103636, -0.009507  ,  1.        ,  0.2076051 , -0.16214449,\n",
       "         0.09097296,  0.14694281],\n",
       "       [-0.10163419,  0.08230408,  0.2076051 ,  1.        , -0.12476777,\n",
       "         0.0555391 ,  0.08964327],\n",
       "       [ 0.83299028,  0.20791584, -0.16214449, -0.12476777,  1.        ,\n",
       "         0.26406754,  0.35011509],\n",
       "       [ 0.35753006,  0.10151748,  0.09097296,  0.0555391 ,  0.26406754,\n",
       "         1.        ,  0.39478962],\n",
       "       [ 0.41648816,  0.1272509 ,  0.14694281,  0.08964327,  0.35011509,\n",
       "         0.39478962,  1.        ]])"
      ]
     },
     "execution_count": 6,
     "metadata": {},
     "output_type": "execute_result"
    }
   ],
   "source": [
    "np.corrcoef(df2[cols].values.T)  # Correlation Matrix"
   ]
  },
  {
   "cell_type": "code",
   "execution_count": 31,
   "metadata": {},
   "outputs": [
    {
     "data": {
      "image/png": "[encoded data removed]",
      "text/plain": [
       "<Figure size 432x288 with 2 Axes>"
      ]
     },
     "metadata": {},
     "output_type": "display_data"
    }
   ],
   "source": [
    "# Heat Map\n",
    "import numpy as np\n",
    "import matplotlib.pyplot as plt\n",
    "import seaborn as sns\n",
    "cols = ['Average Cost for two', 'Has Table booking', 'Has Online delivery',  'Is delivering now', 'Price range', 'Votes', 'Rating text']\n",
    "cor_matrix = np.corrcoef(df2[cols].values.T) # We transpose to get the data by columns. Columns become rows.\n",
    "sns.set(font_scale=1)\n",
    "cor_heat_map = sns.heatmap(cor_matrix,\n",
    " cbar=True,\n",
    " annot=True,\n",
    " square=True,\n",
    " fmt='.2f',\n",
    " annot_kws={'size':10},\n",
    " yticklabels=cols,\n",
    " xticklabels=cols)\n",
    "plt.show()"
   ]
  },
  {
   "cell_type": "markdown",
   "metadata": {},
   "source": [
    "### From the above Heat map, we can see that the Target Value (Rating text) is correlated well with the 'number of votes', 'price Range' and 'average cost for two', with correlation values being 0.39, 0.35 and 0.42 respectively. \n",
    "\n",
    "### We can also draw many other inferences like, Average cost for two and price range has a very high correlation value of 0.83 which says that Average cost for two and price range are highly dependent on each other."
   ]
  },
  {
   "cell_type": "code",
   "execution_count": 8,
   "metadata": {},
   "outputs": [],
   "source": [
    "df2['Longitude']=pd.to_numeric(df2['Longitude'])\n",
    "cols = list(df2.columns.values)\n",
    "cols.pop(cols.index('Rating text'))\n",
    "cols.pop(cols.index('Aggregate rating'))\n",
    "df2 = df2[cols+['Rating text']+['Aggregate rating']]"
   ]
  },
  {
   "cell_type": "code",
   "execution_count": 9,
   "metadata": {},
   "outputs": [],
   "source": [
    "#df.to_csv(r'E:\\c drive\\Downloads\\proj\\CS-ML-master\\CS-ML-master\\04-Zomato\\Dataset\\ZomatoIndiaCleaned3.csv',sep='\\t',encoding='utf-8', index=False)"
   ]
  },
  {
   "cell_type": "code",
   "execution_count": 10,
   "metadata": {},
   "outputs": [
    {
     "data": {
      "text/plain": [
       "1855    3.7\n",
       "Name: Aggregate rating, dtype: float64"
      ]
     },
     "execution_count": 10,
     "metadata": {},
     "output_type": "execute_result"
    }
   ],
   "source": [
    "df2.iloc[0:1,104]"
   ]
  },
  {
   "cell_type": "code",
   "execution_count": 11,
   "metadata": {},
   "outputs": [],
   "source": [
    "x = df2.iloc[:,2:103] #Features\n",
    "y = df2.iloc[:,104] #Target Value - Rating Text\n",
    "y=y.fillna(0).astype(int) \n",
    "from sklearn.model_selection import train_test_split\n",
    "X_train, X_test, y_train, y_test = train_test_split( x, y, test_size = 0.2, random_state = 1) # Splitting the Data into Training and Test with test size as 20%"
   ]
  },
  {
   "cell_type": "markdown",
   "metadata": {},
   "source": [
    "### Let us Start building Machine Learning Models and predict the accuracy score"
   ]
  },
  {
   "cell_type": "markdown",
   "metadata": {},
   "source": [
    "## Model 1: Decision Tree Classification"
   ]
  },
  {
   "cell_type": "code",
   "execution_count": 12,
   "metadata": {},
   "outputs": [
    {
     "name": "stdout",
     "output_type": "stream",
     "text": [
      "Decision Tree Accuracy: 71.42857142857143\n",
      "              precision    recall  f1-score   support\n",
      "\n",
      "           0       1.00      1.00      1.00        17\n",
      "           2       0.00      0.00      0.00        17\n",
      "           3       0.67      0.65      0.66       192\n",
      "           4       0.73      0.80      0.76       236\n",
      "\n",
      "    accuracy                           0.71       462\n",
      "   macro avg       0.60      0.61      0.61       462\n",
      "weighted avg       0.69      0.71      0.70       462\n",
      "\n"
     ]
    },
    {
     "name": "stderr",
     "output_type": "stream",
     "text": [
      "C:\\Users\\DR0002TX\\Anaconda3\\lib\\site-packages\\sklearn\\metrics\\classification.py:1437: UndefinedMetricWarning: Precision and F-score are ill-defined and being set to 0.0 in labels with no predicted samples.\n",
      "  'precision', 'predicted', average, warn_for)\n"
     ]
    }
   ],
   "source": [
    "from sklearn.tree import DecisionTreeClassifier\n",
    "from sklearn.metrics import accuracy_score\n",
    "from sklearn.metrics import confusion_matrix\n",
    "X_train = X_train.fillna(X_train.mean())\n",
    "X_test = X_test.fillna(X_test.mean())\n",
    "dtree_gini = DecisionTreeClassifier(criterion = \"gini\", random_state = 1, max_depth=5, min_samples_leaf=10)\n",
    "dtree_gini.fit(X_train, y_train)\n",
    "dtree_gini_pred = dtree_gini.predict(X_test)\n",
    "print('Decision Tree Accuracy:', accuracy_score(y_test, dtree_gini_pred)*100)\n",
    "cm = confusion_matrix(y_test, dtree_gini_pred)\n",
    "from sklearn.metrics import classification_report\n",
    "print(classification_report(y_true=y_test,y_pred=dtree_gini_pred)) #Printing the Classification report to view precision, recall and f1 scores "
   ]
  },
  {
   "cell_type": "markdown",
   "metadata": {},
   "source": [
    "## Model 2: Decision Tree With Ada Boost"
   ]
  },
  {
   "cell_type": "code",
   "execution_count": 13,
   "metadata": {},
   "outputs": [
    {
     "name": "stdout",
     "output_type": "stream",
     "text": [
      "Decision Tree with Ada Boost Accuracy: 79.87012987012987\n",
      "              precision    recall  f1-score   support\n",
      "\n",
      "           0       1.00      1.00      1.00        17\n",
      "           2       0.12      0.06      0.08        17\n",
      "           3       0.76      0.78      0.77       192\n",
      "           4       0.84      0.86      0.85       236\n",
      "\n",
      "    accuracy                           0.80       462\n",
      "   macro avg       0.68      0.67      0.67       462\n",
      "weighted avg       0.79      0.80      0.79       462\n",
      "\n"
     ]
    }
   ],
   "source": [
    "from sklearn.ensemble import AdaBoostClassifier\n",
    "ada = AdaBoostClassifier(DecisionTreeClassifier(max_depth=20),\n",
    "    n_estimators=60,\n",
    "    learning_rate=1.5, algorithm=\"SAMME\",random_state=0)\n",
    "ada.fit(X_train, y_train)\n",
    "ada_pred = ada.predict(X_test)\n",
    "print('Decision Tree with Ada Boost Accuracy:', accuracy_score(y_test, ada_pred)*100)\n",
    "print(classification_report(y_true=y_test,y_pred=ada_pred))"
   ]
  },
  {
   "cell_type": "markdown",
   "metadata": {},
   "source": [
    "## Model 3: Random Forest Classification"
   ]
  },
  {
   "cell_type": "code",
   "execution_count": 14,
   "metadata": {},
   "outputs": [
    {
     "name": "stdout",
     "output_type": "stream",
     "text": [
      "Random Forest Accuracy: 82.46753246753246\n",
      "Random Forest Out-of-bag score estimate: 84.46128857606931\n",
      "              precision    recall  f1-score   support\n",
      "\n",
      "           0       0.94      0.94      0.94        17\n",
      "           2       0.50      0.06      0.11        17\n",
      "           3       0.78      0.81      0.79       192\n",
      "           4       0.85      0.89      0.87       236\n",
      "\n",
      "    accuracy                           0.82       462\n",
      "   macro avg       0.77      0.67      0.68       462\n",
      "weighted avg       0.81      0.82      0.81       462\n",
      "\n"
     ]
    }
   ],
   "source": [
    "from sklearn.ensemble import RandomForestClassifier\n",
    "rf = RandomForestClassifier(n_estimators=200, oob_score=True,random_state=1)\n",
    "rf.fit(X_train, y_train)\n",
    "rf_pred = rf.predict(X_test)\n",
    "accuracy = accuracy_score(y_test, rf_pred)\n",
    "print('Random Forest Accuracy:', accuracy*100)\n",
    "# as normally 64% of training data is used for calculating accuracy in Random Forest, we use OOB (Out-of-bag) score, to use full data \n",
    "print('Random Forest Out-of-bag score estimate:', rf.oob_score_*100)\n",
    "print(classification_report(y_true=y_test,y_pred=rf_pred))"
   ]
  },
  {
   "cell_type": "markdown",
   "metadata": {},
   "source": [
    "## Model 4: K Nearest Neighbor Classification"
   ]
  },
  {
   "cell_type": "code",
   "execution_count": 15,
   "metadata": {},
   "outputs": [
    {
     "name": "stdout",
     "output_type": "stream",
     "text": [
      "K Nearest Neighbor Accuracy: 67.74891774891775\n",
      "              precision    recall  f1-score   support\n",
      "\n",
      "           0       0.71      0.59      0.65        17\n",
      "           2       0.22      0.12      0.15        17\n",
      "           3       0.63      0.66      0.64       192\n",
      "           4       0.73      0.74      0.74       236\n",
      "\n",
      "    accuracy                           0.68       462\n",
      "   macro avg       0.57      0.53      0.54       462\n",
      "weighted avg       0.67      0.68      0.67       462\n",
      "\n"
     ]
    }
   ],
   "source": [
    "from sklearn import neighbors\n",
    "knn=neighbors.KNeighborsClassifier()\n",
    "knn.fit(X_train, y_train)\n",
    "knn_pred = knn.predict(X_test)\n",
    "print('K Nearest Neighbor Accuracy:', accuracy_score(y_test, knn_pred)*100)\n",
    "print(classification_report(y_true=y_test,y_pred=knn_pred))"
   ]
  },
  {
   "cell_type": "markdown",
   "metadata": {},
   "source": [
    "## Model 5: Artificial Neural Networks (Multi Layer Perceptron)"
   ]
  },
  {
   "cell_type": "code",
   "execution_count": 16,
   "metadata": {},
   "outputs": [
    {
     "name": "stdout",
     "output_type": "stream",
     "text": [
      "Artificial Neural Network Accuracy: 66.45021645021644\n",
      "              precision    recall  f1-score   support\n",
      "\n",
      "           0       0.44      0.24      0.31        17\n",
      "           2       0.00      0.00      0.00        17\n",
      "           3       0.60      0.64      0.62       192\n",
      "           4       0.73      0.76      0.75       236\n",
      "\n",
      "    accuracy                           0.66       462\n",
      "   macro avg       0.44      0.41      0.42       462\n",
      "weighted avg       0.64      0.66      0.65       462\n",
      "\n"
     ]
    },
    {
     "name": "stderr",
     "output_type": "stream",
     "text": [
      "C:\\Users\\DR0002TX\\Anaconda3\\lib\\site-packages\\sklearn\\metrics\\classification.py:1437: UndefinedMetricWarning: Precision and F-score are ill-defined and being set to 0.0 in labels with no predicted samples.\n",
      "  'precision', 'predicted', average, warn_for)\n"
     ]
    }
   ],
   "source": [
    "from sklearn.neural_network import MLPClassifier\n",
    "mlp = MLPClassifier(hidden_layer_sizes=(14,14,15),max_iter=500)\n",
    "mlp.fit(X_train,y_train)\n",
    "nn_pred = mlp.predict(X_test)\n",
    "score = accuracy_score(y_test, nn_pred)\n",
    "print('Artificial Neural Network Accuracy:', score*100)\n",
    "print(classification_report(y_true=y_test,y_pred=nn_pred))"
   ]
  },
  {
   "cell_type": "markdown",
   "metadata": {},
   "source": [
    "## Model 6: SVM Classiifier"
   ]
  },
  {
   "cell_type": "code",
   "execution_count": 17,
   "metadata": {},
   "outputs": [
    {
     "name": "stderr",
     "output_type": "stream",
     "text": [
      "C:\\Users\\DR0002TX\\Anaconda3\\lib\\site-packages\\sklearn\\svm\\base.py:193: FutureWarning: The default value of gamma will change from 'auto' to 'scale' in version 0.22 to account better for unscaled features. Set gamma explicitly to 'auto' or 'scale' to avoid this warning.\n",
      "  \"avoid this warning.\", FutureWarning)\n"
     ]
    },
    {
     "name": "stdout",
     "output_type": "stream",
     "text": [
      "SVM Accuracy: 78.78787878787878\n",
      "              precision    recall  f1-score   support\n",
      "\n",
      "           0       0.85      0.65      0.73        17\n",
      "           2       1.00      0.12      0.21        17\n",
      "           3       0.83      0.67      0.74       192\n",
      "           4       0.76      0.94      0.84       236\n",
      "\n",
      "    accuracy                           0.79       462\n",
      "   macro avg       0.86      0.59      0.63       462\n",
      "weighted avg       0.80      0.79      0.77       462\n",
      "\n"
     ]
    }
   ],
   "source": [
    "from sklearn.svm import SVC\n",
    "#sklearn.svm.LinearSVC\n",
    "svc = SVC(random_state = 0)\n",
    "fitSVC = svc.fit(X_train, y_train)\n",
    "y_pred = fitSVC.predict(X_test)\n",
    "\n",
    "#print(confusion_matrix(y_test, y_pred))\n",
    "print('SVM Accuracy:', accuracy_score(y_test, y_pred)*100)\n",
    "print(classification_report(y_test, y_pred))"
   ]
  },
  {
   "cell_type": "markdown",
   "metadata": {},
   "source": [
    "# Observations:\n",
    "\n",
    " 1. Data Analysis Showed that **Rating** is dependent on **Average cost of two, Price range** and also number of **Votes**\n",
    " 2. Correlation Matrix showed that the **Average cost for two** and **Price range** are highly dependent on each other\n",
    " 3. Correlation Matrix also showed that **Rating text** is correlated well with the number of **Votes, Price Range and Average cost for two**\n",
    " 4. Of all the 6 Models, the best ones in terms of accuracy are **Descision Tree with Adaptive Boosting** and **Random Forest Classifier**\n",
    " 5. Future works include: Hyper Parameter Tuning and using other boosting techniques like Xgboost"
   ]
  },
  {
   "cell_type": "markdown",
   "metadata": {},
   "source": [
    "# Now it's time to do some **Text Mining !!**"
   ]
  },
  {
   "cell_type": "code",
   "execution_count": 18,
   "metadata": {
    "scrolled": true
   },
   "outputs": [
    {
     "name": "stderr",
     "output_type": "stream",
     "text": [
      "Using TensorFlow backend.\n"
     ]
    }
   ],
   "source": [
    "import os\n",
    "\n",
    "import nltk\n",
    "from nltk.corpus import RegexpTokenizer as regextoken\n",
    "from nltk.corpus import stopwords\n",
    "from nltk import FreqDist, bigrams, trigrams\n",
    "#from nltk import WordNetLemmatizer\n",
    "import matplotlib\n",
    "from matplotlib import pyplot as plt\n",
    "import seaborn as sns\n",
    "from keras.preprocessing.text import Tokenizer\n",
    "from sklearn.preprocessing import LabelEncoder\n",
    "from keras.utils import to_categorical\n",
    "from keras.preprocessing.sequence import pad_sequences\n",
    "import gensim\n",
    "from gensim.models.keyedvectors import KeyedVectors\n",
    "from keras.models import Sequential\n",
    "from keras.models import Model\n",
    "from keras.layers import Dense, Flatten, Embedding, Conv1D, MaxPooling1D, Dropout, LSTM, GRU\n",
    "from keras.regularizers import l1, l2\n",
    "from sklearn.metrics import classification_report\n",
    "import warnings\n",
    "warnings.filterwarnings(\"ignore\")\n",
    "#I'll use the Review file extracted with Zomato API\n",
    "zomato = pd.read_csv(r\"E:\\c drive\\Downloads\\proj\\CS-ML-master\\CS-ML-master\\04-Zomato\\ZomatoExtr5.csv\", na_values = [\"-\", \"\"],header=None,encoding='utf-8',error_bad_lines=False,sep='\\t')\n",
    "# Making a copy of the data to work on\n",
    "data = zomato.copy()"
   ]
  },
  {
   "cell_type": "code",
   "execution_count": 19,
   "metadata": {},
   "outputs": [
    {
     "data": {
      "text/html": [
       "<div>\n",
       "<style scoped>\n",
       "    .dataframe tbody tr th:only-of-type {\n",
       "        vertical-align: middle;\n",
       "    }\n",
       "\n",
       "    .dataframe tbody tr th {\n",
       "        vertical-align: top;\n",
       "    }\n",
       "\n",
       "    .dataframe thead th {\n",
       "        text-align: right;\n",
       "    }\n",
       "</style>\n",
       "<table border=\"1\" class=\"dataframe\">\n",
       "  <thead>\n",
       "    <tr style=\"text-align: right;\">\n",
       "      <th></th>\n",
       "      <th>reviews</th>\n",
       "    </tr>\n",
       "  </thead>\n",
       "  <tbody>\n",
       "    <tr>\n",
       "      <th>0</th>\n",
       "      <td>Pathetic inedible food served by restaurant. T...</td>\n",
       "    </tr>\n",
       "    <tr>\n",
       "      <th>1</th>\n",
       "      <td>Mukhwas was awesome, and pure. When I visited ...</td>\n",
       "    </tr>\n",
       "    <tr>\n",
       "      <th>2</th>\n",
       "      <td>While ordering rajma chawal, they delivered Ra...</td>\n",
       "    </tr>\n",
       "    <tr>\n",
       "      <th>3</th>\n",
       "      <td>Authentic cuisine   Awesome food.   Loved soup...</td>\n",
       "    </tr>\n",
       "    <tr>\n",
       "      <th>4</th>\n",
       "      <td>Ordered sweet corn soup but was very pathetic ...</td>\n",
       "    </tr>\n",
       "  </tbody>\n",
       "</table>\n",
       "</div>"
      ],
      "text/plain": [
       "                                             reviews\n",
       "0  Pathetic inedible food served by restaurant. T...\n",
       "1  Mukhwas was awesome, and pure. When I visited ...\n",
       "2  While ordering rajma chawal, they delivered Ra...\n",
       "3  Authentic cuisine   Awesome food.   Loved soup...\n",
       "4  Ordered sweet corn soup but was very pathetic ..."
      ]
     },
     "execution_count": 19,
     "metadata": {},
     "output_type": "execute_result"
    }
   ],
   "source": [
    "data.drop_duplicates(inplace=True)\n",
    "data.drop(0,inplace=True)\n",
    "data.drop(3,inplace=True)\n",
    "data.reset_index(drop=True,inplace=True)\n",
    "data.rename(columns={0:'reviews'},inplace=True)\n",
    "data.head()"
   ]
  },
  {
   "cell_type": "code",
   "execution_count": 20,
   "metadata": {},
   "outputs": [
    {
     "name": "stdout",
     "output_type": "stream",
     "text": [
      "['pathetic', 'inedible', 'food', 'served', 'by', 'restaurant', 'the', 'staff', 'was', 'disinterested', 'in', 'the', 'complaints', 'or', 'service']\n"
     ]
    }
   ],
   "source": [
    "# Converting all the text to lowercase\n",
    "data[\"reviews\"] = data[\"reviews\"].apply(lambda x: x.lower())\n",
    "\n",
    "# Creating a regular expression tokenizer that matches only alphabets\n",
    "# This will return separate words (tokens) from the text\n",
    "tokenizer = regextoken(\"[a-zA-Z]+\") \n",
    "# Applying the tokenizer to each row of the reviews\n",
    "review_tokens = data[\"reviews\"].apply(tokenizer.tokenize)\n",
    "# Examining the tokens created for the first row / restaurant\n",
    "print(review_tokens[0])"
   ]
  },
  {
   "cell_type": "code",
   "execution_count": 21,
   "metadata": {
    "scrolled": true
   },
   "outputs": [
    {
     "name": "stdout",
     "output_type": "stream",
     "text": [
      "['i', 'me', 'my', 'myself', 'we', 'our', 'ours', 'ourselves', 'you', \"you're\", \"you've\", \"you'll\", \"you'd\", 'your', 'yours', 'yourself', 'yourselves', 'he', 'him', 'his', 'himself', 'she', \"she's\", 'her', 'hers', 'herself', 'it', \"it's\", 'its', 'itself', 'they', 'them', 'their', 'theirs', 'themselves', 'what', 'which', 'who', 'whom', 'this', 'that', \"that'll\", 'these', 'those', 'am', 'is', 'are', 'was', 'were', 'be', 'been', 'being', 'have', 'has', 'had', 'having', 'do', 'does', 'did', 'doing', 'a', 'an', 'the', 'and', 'but', 'if', 'or', 'because', 'as', 'until', 'while', 'of', 'at', 'by', 'for', 'with', 'about', 'against', 'between', 'into', 'through', 'during', 'before', 'after', 'above', 'below', 'to', 'from', 'up', 'down', 'in', 'out', 'on', 'off', 'over', 'under', 'again', 'further', 'then', 'once', 'here', 'there', 'when', 'where', 'why', 'how', 'all', 'any', 'both', 'each', 'few', 'more', 'most', 'other', 'some', 'such', 'no', 'nor', 'not', 'only', 'own', 'same', 'so', 'than', 'too', 'very', 's', 't', 'can', 'will', 'just', 'don', \"don't\", 'should', \"should've\", 'now', 'd', 'll', 'm', 'o', 're', 've', 'y', 'ain', 'aren', \"aren't\", 'couldn', \"couldn't\", 'didn', \"didn't\", 'doesn', \"doesn't\", 'hadn', \"hadn't\", 'hasn', \"hasn't\", 'haven', \"haven't\", 'isn', \"isn't\", 'ma', 'mightn', \"mightn't\", 'mustn', \"mustn't\", 'needn', \"needn't\", 'shan', \"shan't\", 'shouldn', \"shouldn't\", 'wasn', \"wasn't\", 'weren', \"weren't\", 'won', \"won't\", 'wouldn', \"wouldn't\"]\n"
     ]
    }
   ],
   "source": [
    "# Importing and examining the English stopwords directory \n",
    "# These are common words that typically don't add meaning to the text and can be removed\n",
    "stop = stopwords.words(\"english\")\n",
    "print(stop)"
   ]
  },
  {
   "cell_type": "code",
   "execution_count": 22,
   "metadata": {},
   "outputs": [
    {
     "data": {
      "text/plain": [
       "[('food', 2274),\n",
       " ('place', 1910),\n",
       " ('good', 1781),\n",
       " ('chicken', 1082),\n",
       " ('taste', 850),\n",
       " ('service', 842),\n",
       " ('ordered', 726),\n",
       " ('also', 700),\n",
       " ('one', 663),\n",
       " ('great', 628),\n",
       " ('best', 609),\n",
       " ('ambience', 585),\n",
       " ('amazing', 562),\n",
       " ('staff', 554),\n",
       " ('really', 536),\n",
       " ('restaurant', 531),\n",
       " ('try', 520),\n",
       " ('pizza', 511),\n",
       " ('time', 472),\n",
       " ('well', 462)]"
      ]
     },
     "execution_count": 22,
     "metadata": {},
     "output_type": "execute_result"
    }
   ],
   "source": [
    "# Adding custom words to stopwords \n",
    "stop.extend([\"rated\", \"n\", \"nan\", \"x\"])\n",
    "# Removing stopwords from the tokens\n",
    "review_tokens = review_tokens.apply(lambda x: [token for token in x if token not in stop])\n",
    "# Concatenating all the reviews \n",
    "all_reviews = review_tokens.astype(str).str.cat()\n",
    "cleaned_reviews = tokenizer.tokenize(all_reviews)\n",
    "\n",
    "# Getting the frequency distribution of individual words in the reviews\n",
    "fd = FreqDist()\n",
    "for word in cleaned_reviews:\n",
    "    fd[word] += 1\n",
    "    \n",
    "# Examining the top 5 most frequent words\n",
    "fd.most_common(20)"
   ]
  },
  {
   "cell_type": "code",
   "execution_count": 23,
   "metadata": {
    "scrolled": true
   },
   "outputs": [
    {
     "data": {
      "image/png": "[encoded data removed]",
      "text/plain": [
       "<Figure size 720x360 with 1 Axes>"
      ]
     },
     "metadata": {
      "needs_background": "light"
     },
     "output_type": "display_data"
    }
   ],
   "source": [
    "# Plotting the top 50 most frequent words\n",
    "plt.figure(figsize = (10, 5))\n",
    "fd.plot(60)\n",
    "plt.show()"
   ]
  },
  {
   "cell_type": "markdown",
   "metadata": {},
   "source": [
    "### Observations\n",
    "Of the 50 most frequent words across customer reviews, six reveal food preferences: **chicken, pizza, veg, paneer, cheese, rice, pasta**. There are **no negative words** in top 50. There are only 2 negative words lying in top 100, viz. **\"bad** and **worst\"**.\n",
    "\n",
    "Factors contributing to restaurant experience are mentioned in the following (descending) order of frequency: **place > taste > service > ambience > staff > time > quality > quantity >  menu > friendly > delivery**.\n",
    "\n",
    "This means that **place** matters a lot to the Foodies...\n",
    "\n",
    "Now let us repeat the analysis on a bi-gram level. Bi-grams are pairs of words which can provide better context than individual words."
   ]
  },
  {
   "cell_type": "code",
   "execution_count": 24,
   "metadata": {
    "scrolled": true
   },
   "outputs": [
    {
     "data": {
      "text/plain": [
       "[(('must', 'try'), 188),\n",
       " (('good', 'food'), 135),\n",
       " (('food', 'good'), 130),\n",
       " (('one', 'best'), 119),\n",
       " (('good', 'place'), 116),\n",
       " (('visit', 'place'), 107),\n",
       " (('main', 'course'), 94),\n",
       " (('also', 'good'), 93),\n",
       " (('food', 'quality'), 91),\n",
       " (('really', 'good'), 91),\n",
       " (('must', 'visit'), 83),\n",
       " (('good', 'service'), 81),\n",
       " (('best', 'place'), 80),\n",
       " (('non', 'veg'), 76),\n",
       " (('ordered', 'chicken'), 75),\n",
       " (('value', 'money'), 75),\n",
       " (('ice', 'cream'), 71),\n",
       " (('butter', 'chicken'), 71),\n",
       " (('quality', 'food'), 66),\n",
       " (('visited', 'place'), 63),\n",
       " (('good', 'taste'), 63),\n",
       " (('great', 'place'), 63),\n",
       " (('fried', 'rice'), 61),\n",
       " (('highly', 'recommended'), 60),\n",
       " (('food', 'service'), 59),\n",
       " (('nice', 'place'), 59),\n",
       " (('chicken', 'tikka'), 58),\n",
       " (('service', 'good'), 57),\n",
       " (('taste', 'good'), 56),\n",
       " (('garlic', 'bread'), 55),\n",
       " (('amazing', 'food'), 55),\n",
       " (('quality', 'quantity'), 53),\n",
       " (('ambience', 'good'), 53),\n",
       " (('place', 'good'), 52),\n",
       " (('paneer', 'tikka'), 51),\n",
       " (('food', 'great'), 50),\n",
       " (('food', 'amazing'), 50),\n",
       " (('south', 'indian'), 49),\n",
       " (('great', 'food'), 47),\n",
       " (('first', 'time'), 46),\n",
       " (('food', 'also'), 43),\n",
       " (('indian', 'food'), 43),\n",
       " (('good', 'ambience'), 42),\n",
       " (('pocket', 'friendly'), 42),\n",
       " (('food', 'really'), 42),\n",
       " (('food', 'delicious'), 41),\n",
       " (('food', 'taste'), 41),\n",
       " (('service', 'food'), 41),\n",
       " (('amazing', 'place'), 41),\n",
       " (('north', 'indian'), 40)]"
      ]
     },
     "execution_count": 24,
     "metadata": {},
     "output_type": "execute_result"
    }
   ],
   "source": [
    "from nltk import bigrams\n",
    "# Generating bigrams from the reviews\n",
    "bigrams1 = bigrams(cleaned_reviews)\n",
    "# Getting the bigram frequency distribution\n",
    "fd_bigrams = FreqDist()\n",
    "for bigram in bigrams1:\n",
    "    fd_bigrams[bigram] += 1\n",
    "# Examining the top 5 most frequent bigrams\n",
    "fd_bigrams.most_common(50)"
   ]
  },
  {
   "cell_type": "code",
   "execution_count": 25,
   "metadata": {
    "scrolled": true
   },
   "outputs": [
    {
     "data": {
      "image/png": "[encoded data removed]",
      "text/plain": [
       "<Figure size 720x360 with 1 Axes>"
      ]
     },
     "metadata": {
      "needs_background": "light"
     },
     "output_type": "display_data"
    }
   ],
   "source": [
    "# Plotting the top 50 most frequent bigrams\n",
    "plt.figure(figsize = (10, 5))\n",
    "#plt.xticks(rotation=45)\n",
    "fd_bigrams.plot(50)\n",
    "plt.show()"
   ]
  },
  {
   "cell_type": "markdown",
   "metadata": {},
   "source": [
    "### Observations\n",
    "\n",
    "We have some new insights! Food items/preferences mentioned in the top 50 bigrams are **non veg, ice cream, butter chicken, fried rice, chicken tikka, garlik bread, paneed tikka, south indian, and north indian**. Top five bigrams related to restaurant experience: **must try > good food > good place > good service > value money**\n",
    "\n",
    "\n",
    "Key insight is: **Food taste is most effective parameter, followed by location of the restaurant, and then service. Another important observalion is that the expense factor, which was missed by individual word frequency counts, was picked up by the bigram frequency counts.**\n",
    "\n",
    "What about trigrams? "
   ]
  },
  {
   "cell_type": "code",
   "execution_count": 26,
   "metadata": {
    "scrolled": true
   },
   "outputs": [
    {
     "data": {
      "text/plain": [
       "[(('must', 'visit', 'place'), 30),\n",
       " (('must', 'try', 'place'), 20),\n",
       " (('veg', 'non', 'veg'), 19),\n",
       " (('food', 'good', 'service'), 17),\n",
       " (('overall', 'good', 'experience'), 17),\n",
       " (('would', 'love', 'visit'), 16),\n",
       " (('overall', 'great', 'experience'), 16),\n",
       " (('vanilla', 'ice', 'cream'), 16),\n",
       " (('north', 'indian', 'food'), 16),\n",
       " (('place', 'hangout', 'friends'), 15),\n",
       " (('one', 'best', 'place'), 14),\n",
       " (('food', 'quality', 'quantity'), 13),\n",
       " (('white', 'sauce', 'pasta'), 13),\n",
       " (('cheese', 'garlic', 'bread'), 12),\n",
       " (('quality', 'quantity', 'food'), 12),\n",
       " (('food', 'quality', 'taste'), 12),\n",
       " (('one', 'best', 'places'), 12),\n",
       " (('south', 'indian', 'food'), 12),\n",
       " (('food', 'also', 'good'), 12),\n",
       " (('paneer', 'tikka', 'masala'), 11),\n",
       " (('good', 'food', 'good'), 11),\n",
       " (('food', 'ambience', 'service'), 11),\n",
       " (('paneer', 'butter', 'masala'), 11),\n",
       " (('must', 'try', 'dish'), 11),\n",
       " (('place', 'chill', 'friends'), 11),\n",
       " (('place', 'serves', 'best'), 10),\n",
       " (('place', 'must', 'visit'), 10),\n",
       " (('thin', 'crust', 'pizza'), 10),\n",
       " (('good', 'place', 'hangout'), 10),\n",
       " (('ordered', 'chicken', 'tikka'), 10),\n",
       " (('overall', 'good', 'place'), 10),\n",
       " (('food', 'really', 'good'), 10),\n",
       " (('sweet', 'corn', 'soup'), 9),\n",
       " (('peri', 'peri', 'chicken'), 9),\n",
       " (('would', 'highly', 'recommend'), 9),\n",
       " (('choco', 'lava', 'cake'), 9),\n",
       " (('heard', 'lot', 'place'), 9),\n",
       " (('honey', 'chilli', 'potato'), 9),\n",
       " (('value', 'money', 'overall'), 8),\n",
       " (('service', 'also', 'good'), 8),\n",
       " (('food', 'quality', 'good'), 8),\n",
       " (('good', 'place', 'visit'), 8),\n",
       " (('chicken', 'fried', 'rice'), 8),\n",
       " (('brownie', 'ice', 'cream'), 8),\n",
       " (('chicken', 'malai', 'tikka'), 8),\n",
       " (('ambience', 'food', 'service'), 7),\n",
       " (('service', 'value', 'money'), 7),\n",
       " (('good', 'service', 'also'), 7),\n",
       " (('cheese', 'garlic', 'naan'), 7),\n",
       " (('bit', 'higher', 'side'), 7),\n",
       " (('peri', 'peri', 'fries'), 7),\n",
       " (('service', 'food', 'quality'), 7),\n",
       " (('service', 'good', 'food'), 7),\n",
       " (('keep', 'good', 'work'), 7),\n",
       " (('schezwan', 'fried', 'rice'), 7),\n",
       " (('ambience', 'good', 'food'), 7),\n",
       " (('good', 'service', 'food'), 7),\n",
       " (('chicken', 'tikka', 'biryani'), 7),\n",
       " (('good', 'quality', 'food'), 7),\n",
       " (('authentic', 'south', 'indian'), 7),\n",
       " (('food', 'great', 'ambience'), 7),\n",
       " (('chicken', 'pizza', 'chicken'), 7),\n",
       " (('place', 'pocket', 'friendly'), 7),\n",
       " (('taste', 'value', 'money'), 7),\n",
       " (('taste', 'really', 'good'), 7),\n",
       " (('non', 'veg', 'starters'), 7),\n",
       " (('also', 'good', 'taste'), 7),\n",
       " (('red', 'sauce', 'pasta'), 6),\n",
       " (('non', 'veg', 'food'), 6),\n",
       " (('would', 'definitely', 'recommend'), 6),\n",
       " (('ambience', 'good', 'service'), 6),\n",
       " (('food', 'service', 'ambiance'), 6),\n",
       " (('chicken', 'sui', 'mai'), 6),\n",
       " (('great', 'place', 'hangout'), 6),\n",
       " (('place', 'much', 'crowded'), 6),\n",
       " (('one', 'best', 'restaurant'), 6),\n",
       " (('gajar', 'ka', 'halwa'), 6),\n",
       " (('ordered', 'chicken', 'biryani'), 6),\n",
       " (('first', 'time', 'tried'), 6),\n",
       " (('place', 'one', 'best'), 6),\n",
       " (('service', 'bit', 'slow'), 6),\n",
       " (('good', 'food', 'great'), 6),\n",
       " (('really', 'good', 'food'), 6),\n",
       " (('food', 'must', 'try'), 6),\n",
       " (('paneer', 'makhani', 'pizza'), 6),\n",
       " (('service', 'quick', 'staff'), 6),\n",
       " (('food', 'great', 'taste'), 6),\n",
       " (('place', 'hang', 'friends'), 6),\n",
       " (('pizza', 'thin', 'crust'), 6),\n",
       " (('place', 'good', 'ambience'), 6),\n",
       " (('ambience', 'quite', 'good'), 6),\n",
       " (('good', 'main', 'course'), 6),\n",
       " (('also', 'good', 'place'), 6),\n",
       " (('good', 'service', 'good'), 6),\n",
       " (('main', 'course', 'ordered'), 6),\n",
       " (('two', 'people', 'approx'), 6),\n",
       " (('stuffed', 'garlic', 'bread'), 6),\n",
       " (('cheese', 'burst', 'pizza'), 6),\n",
       " (('caramel', 'sponge', 'cake'), 6),\n",
       " (('best', 'asia', 'kitchen'), 6)]"
      ]
     },
     "execution_count": 26,
     "metadata": {},
     "output_type": "execute_result"
    }
   ],
   "source": [
    "from nltk import trigrams\n",
    "# Generating trigrams from the reviews\n",
    "trigrams1 = trigrams(cleaned_reviews)\n",
    "\n",
    "fd_trigrams = FreqDist()\n",
    "for trigram in trigrams1:\n",
    "    fd_trigrams[trigram] += 1\n",
    "\n",
    "fd_trigrams.most_common(100)"
   ]
  },
  {
   "cell_type": "code",
   "execution_count": 27,
   "metadata": {
    "scrolled": false
   },
   "outputs": [
    {
     "data": {
      "image/png": "[encoded data removed]",
      "text/plain": [
       "<Figure size 720x360 with 1 Axes>"
      ]
     },
     "metadata": {
      "needs_background": "light"
     },
     "output_type": "display_data"
    }
   ],
   "source": [
    "plt.figure(figsize = (10, 5))\n",
    "fd_trigrams.plot(50)\n",
    "plt.show()"
   ]
  },
  {
   "cell_type": "markdown",
   "metadata": {},
   "source": [
    "### Observations\n",
    "The specific food preferences(descreading order) we can see here are **veg non veg, vanilla ice cream, north indian food, white sauce pasta, cheese garlic bread, south indian food and paneer tikka masala**\n",
    "\n",
    "On restaurant experience: a specific insight revealed by the trigrams is that **many people are looking for places to hang out with their friends**. \n",
    "\n",
    "We also see a variety of positive trigrams like \"must try place\",\"food good service\", \"would love visit\", \"one best place\", \"service also good\" and \"overall good experience\".\n",
    "\n",
    "We now have plenty of insights into customer preferences and experiences, and will move onto an analysis of Bangalore's cuisines."
   ]
  },
  {
   "cell_type": "code",
   "execution_count": 28,
   "metadata": {
    "scrolled": false
   },
   "outputs": [],
   "source": [
    "import pandas as pd\n",
    "data2=pd.read_csv(r'E:\\c drive\\Downloads\\proj\\CS-ML-master\\CS-ML-master\\04-Zomato\\Dataset\\MLZomato5.csv')"
   ]
  },
  {
   "cell_type": "code",
   "execution_count": 29,
   "metadata": {
    "scrolled": true
   },
   "outputs": [
    {
     "data": {
      "text/plain": [
       "0    North Indian, Italian, Finger Food\n",
       "Name: Cuisines, dtype: object"
      ]
     },
     "execution_count": 29,
     "metadata": {},
     "output_type": "execute_result"
    }
   ],
   "source": [
    "data2['Cuisines'].head(1)"
   ]
  },
  {
   "cell_type": "code",
   "execution_count": 30,
   "metadata": {},
   "outputs": [
    {
     "name": "stdout",
     "output_type": "stream",
     "text": [
      "[('indian', 1538), ('north', 1165), ('chinese', 832), ('food', 666), ('continental', 409), ('fast', 405), ('italian', 359), ('south', 299), ('biryani', 229), ('mughlai', 220), ('desserts', 202), ('cafe', 188), ('pizza', 187), ('asian', 157), ('seafood', 144), ('street', 138), ('salad', 120), ('burger', 110), ('beverages', 106), ('american', 96), ('thai', 88), ('mexican', 87), ('finger', 83), ('bakery', 82), ('european', 82), ('momos', 79), ('kebab', 70), ('mithai', 70), ('goan', 62), ('mediterranean', 52), ('rolls', 48), ('ice', 44), ('cream', 44), ('andhra', 43), ('maharashtrian', 41), ('bbq', 40), ('nan', 37), ('lebanese', 35), ('sandwich', 34), ('healthy', 26), ('juices', 26), ('modern', 26), ('arabian', 23), ('japanese', 23), ('hyderabadi', 15), ('tibetan', 15), ('bar', 14), ('mangalorean', 13), ('bengali', 11), ('burmese', 10)]\n"
     ]
    }
   ],
   "source": [
    "# Creating a new dataset with cuisines info and restaurant ratings\n",
    "cuisines = data2[[\"Cuisines\", \"Rating text\"]]\n",
    "cuisines[\"Cuisines\"] = cuisines[\"Cuisines\"].astype(str)\n",
    "# Converting to lowercase\n",
    "cuisines[\"Cuisines\"] = cuisines[\"Cuisines\"].apply(lambda x: x.lower())\n",
    "# Tokenizing the cuisines\n",
    "cuisine_tokens = cuisines[\"Cuisines\"].apply(tokenizer.tokenize)\n",
    "# Concatenating all the cuisine names into one text document\n",
    "all_cuisines = cuisine_tokens.astype(str).str.cat()\n",
    "cleaned_cuisines = tokenizer.tokenize(all_cuisines)\n",
    "\n",
    "# Generating cuisine frequencies \n",
    "fd_cuisine = FreqDist()\n",
    "for cuisine in cleaned_cuisines:\n",
    "    fd_cuisine[cuisine] += 1\n",
    "    \n",
    "# Printing the 50 most common cuisines (top 50)\n",
    "print(fd_cuisine.most_common(50))"
   ]
  },
  {
   "cell_type": "markdown",
   "metadata": {},
   "source": [
    "## Observations\n",
    "### Here Indian is the first, and North is the second most common Cuisines, but logically that means \"North Indian\" cuisine is actually the most common one.\n",
    "\n",
    "### Chinese food also has a strong hold over Indian market.It is the most common non native food type in India.\n",
    "\n",
    "### Also'Cantonese' is another form of Chinese and so might not really be rare.\n",
    "\n",
    "### We've done our reviews and cuisines analysis."
   ]
  }
 ],
 "metadata": {
  "kernelspec": {
   "display_name": "Python 3",
   "language": "python",
   "name": "python3"
  },
  "language_info": {
   "codemirror_mode": {
    "name": "ipython",
    "version": 3
   },
   "file_extension": ".py",
   "mimetype": "text/x-python",
   "name": "python",
   "nbconvert_exporter": "python",
   "pygments_lexer": "ipython3",
   "version": "3.7.3"
  }
 },
 "nbformat": 4,
 "nbformat_minor": 2
}
