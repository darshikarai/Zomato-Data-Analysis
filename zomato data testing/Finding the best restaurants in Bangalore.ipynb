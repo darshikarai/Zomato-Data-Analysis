{
 "cells": [
  {
   "cell_type": "markdown",
   "metadata": {},
   "source": [
    "## Breakdown of this notebook:\n",
    "1. **Loading the dataset**: Load the data and import the libraries.\n",
    "1. **Data Cleaning**: \n",
    "     * Deleting redundant columns.\n",
    "     * Renaming the columns.\n",
    "     * Dropping duplicates.\n",
    "     * Cleaning individual columns.\n",
    "1. **Data Visualization:** Using plots to find relations between the features.\n",
    "1. **Finding the best cheap restaurants:** \n",
    "      * **Cheapest, Highest rated and largely voted**.\n",
    "      * Is there a **relation** between **cuisine,location and the cost**?\n",
    "1. **Exploring the best expensive restaurants.**\n",
    "      * Restaurants that are **expensive, Highest rated and largely voted**.\n",
    "      * Is there a **relation** between **restaurant type,location and the cost**?\n"
   ]
  },
  {
   "cell_type": "code",
   "execution_count": null,
   "metadata": {
    "_cell_guid": "b1076dfc-b9ad-4769-8c92-a6c4dae69d19",
    "_uuid": "8f2839f25d086af736a60e9eeb907d3b93b6e0e5"
   },
   "outputs": [],
   "source": [
    "# This Python 3 environment comes with many helpful analytics libraries installed\n",
    "# It is defined by the kaggle/python docker image: https://github.com/kaggle/docker-python\n",
    "# For example, here's several helpful packages to load in \n",
    "\n",
    "import numpy as np # linear algebra\n",
    "import pandas as pd # data processing, CSV file I/O (e.g. pd.read_csv)\n",
    "import matplotlib.pyplot as plt\n",
    "import seaborn as sns\n",
    "from matplotlib import rcParams\n",
    "\n",
    "# Input data files are available in the \"../input/\" directory.\n",
    "# For example, running this (by clicking run or pressing Shift+Enter) will list the files in the input directory\n",
    "\n",
    "import os\n",
    "print(os.listdir(\"../input\"))\n",
    "\n",
    "# Any results you write to the current directory are saved as output."
   ]
  },
  {
   "cell_type": "code",
   "execution_count": null,
   "metadata": {
    "_cell_guid": "79c7e3d0-c299-4dcb-8224-4455121ee9b0",
    "_uuid": "d629ff2d2480ee46fbb7e2d37f6b5fab8052498a"
   },
   "outputs": [],
   "source": [
    "data=pd.read_csv('../input/zomato.csv')\n",
    "data.head()\n",
    "# data.shape"
   ]
  },
  {
   "cell_type": "code",
   "execution_count": null,
   "metadata": {},
   "outputs": [],
   "source": [
    "print(\"Percentage null or na values in df\")\n",
    "((data.isnull() | data.isna()).sum() * 100 / data.index.size).round(2)"
   ]
  },
  {
   "cell_type": "code",
   "execution_count": null,
   "metadata": {},
   "outputs": [],
   "source": [
    "data.rate = data.rate.replace(\"NEW\", np.nan)\n",
    "data.dropna(how ='any', inplace = True)"
   ]
  },
  {
   "cell_type": "code",
   "execution_count": null,
   "metadata": {},
   "outputs": [],
   "source": [
    "# data.url.unique()\n",
    "# data.address.unique()\n",
    "# data.phone.unique()\n",
    "# data[['location','listed_in(city)']]"
   ]
  },
  {
   "cell_type": "markdown",
   "metadata": {},
   "source": [
    "* If you look closely at each column of the dataframe closely you will notice that there are some columns that won't contribute to the ratings and reviews. The **url** or the full **address** of the restaurant or their **phone number** can't justify their ratings or reviews.\n",
    "* Note that only the address column is omitted from the dataframe and not the listed_in(city) column,because location details in listed_in(city) column can be very useful in extracting the information about the restaurants.\n",
    "* Also,location and listed_in(city) are the same columns.So, we **drop the location column**.\n",
    "* The names of columns are a bit non descriptive and confusing so its better to **rename** some of these columns."
   ]
  },
  {
   "cell_type": "code",
   "execution_count": null,
   "metadata": {},
   "outputs": [],
   "source": [
    "del data['url']\n",
    "del data['address']\n",
    "del data['phone']\n",
    "del data['location']\n",
    "data.rename(columns={'approx_cost(for two people)': 'average_cost', 'listed_in(city)': 'locality','listed_in(type)': 'restaurant_type'}, inplace=True)\n",
    "data.head()"
   ]
  },
  {
   "cell_type": "markdown",
   "metadata": {},
   "source": [
    "As you can see the rate column is string type with an extra /5 with all the ratings. This should be cleaned.It is important to convert the string back to float !!"
   ]
  },
  {
   "cell_type": "code",
   "execution_count": null,
   "metadata": {},
   "outputs": [],
   "source": [
    "X = data\n",
    "X.rate = X.rate.astype(str)\n",
    "X.rate = X.rate.apply(lambda x: x.replace('/5',''))\n",
    "X.rate = X.rate.apply(lambda x: float(x))\n",
    "X.head()"
   ]
  },
  {
   "cell_type": "markdown",
   "metadata": {},
   "source": [
    "### Data Visualization"
   ]
  },
  {
   "cell_type": "markdown",
   "metadata": {},
   "source": [
    "#### Are the locations of restaurants localised to specific parts of city?"
   ]
  },
  {
   "cell_type": "code",
   "execution_count": null,
   "metadata": {
    "_kg_hide-input": true
   },
   "outputs": [],
   "source": [
    "rcParams['figure.figsize'] = 15,7\n",
    "g = sns.countplot(x=\"locality\",data=data, palette = \"Set1\")\n",
    "g.set_xticklabels(g.get_xticklabels(), rotation=90, ha=\"right\")\n",
    "g \n",
    "plt.title('locality',size = 20)"
   ]
  },
  {
   "cell_type": "markdown",
   "metadata": {},
   "source": [
    "### Restaurant type distribution plot"
   ]
  },
  {
   "cell_type": "code",
   "execution_count": null,
   "metadata": {
    "_kg_hide-input": true
   },
   "outputs": [],
   "source": [
    "rcParams['figure.figsize'] = 15,7\n",
    "g = sns.countplot(x=\"rest_type\",data=data, palette = \"Set1\")\n",
    "g.set_xticklabels(g.get_xticklabels(), rotation=90, ha=\"right\")\n",
    "g \n",
    "plt.title('rest_type',size = 20)"
   ]
  },
  {
   "cell_type": "markdown",
   "metadata": {},
   "source": [
    "### Is there a relation between online order option and rating of the restaurant?"
   ]
  },
  {
   "cell_type": "code",
   "execution_count": null,
   "metadata": {
    "_kg_hide-input": true
   },
   "outputs": [],
   "source": [
    "plt.rcParams['figure.figsize'] = (3, 4)\n",
    "plt.style.use('_classic_test')\n",
    "\n",
    "X['online_order'].value_counts().plot.bar(color = 'cyan')\n",
    "plt.title('Online orders', fontsize = 20)\n",
    "plt.ylabel('Number of orders', fontsize = 15)\n",
    "plt.show()"
   ]
  },
  {
   "cell_type": "code",
   "execution_count": null,
   "metadata": {
    "_kg_hide-input": true
   },
   "outputs": [],
   "source": [
    "# X[['online_order','rate']].groupby(['rate']).sum(axis=0)\n",
    "plt.rcParams['figure.figsize'] = (15, 9)\n",
    "x = pd.crosstab(X['rate'], X['online_order'])\n",
    "x.div(x.sum(1).astype(float), axis = 0).plot(kind = 'bar', stacked = True,color=['red','yellow'])\n",
    "plt.title('online order vs rate', fontweight = 30, fontsize = 20)\n",
    "plt.legend(loc=\"upper right\")\n",
    "plt.show()"
   ]
  },
  {
   "cell_type": "markdown",
   "metadata": {},
   "source": [
    "*You are more likely to receive a higher rating if your restaurant offers* **online order** *option.*"
   ]
  },
  {
   "cell_type": "markdown",
   "metadata": {},
   "source": [
    "### Is there a relation between table booking option and rating of the restaurant?"
   ]
  },
  {
   "cell_type": "code",
   "execution_count": null,
   "metadata": {
    "_kg_hide-input": true
   },
   "outputs": [],
   "source": [
    "plt.rcParams['figure.figsize'] = (7, 9)\n",
    "plt.style.use('_classic_test')\n",
    "\n",
    "X['book_table'].value_counts().plot.bar(color = 'cyan')\n",
    "plt.title('Table booking', fontsize = 20)\n",
    "plt.ylabel('Number of bookings', fontsize = 15)\n",
    "plt.show()"
   ]
  },
  {
   "cell_type": "code",
   "execution_count": null,
   "metadata": {
    "_kg_hide-input": true
   },
   "outputs": [],
   "source": [
    "plt.rcParams['figure.figsize'] = (15, 9)\n",
    "x = pd.crosstab(X['rate'], X['book_table'])\n",
    "x.div(x.sum(1).astype(float), axis = 0).plot(kind = 'bar', stacked = True,color=['red','yellow'])\n",
    "plt.title('table booking vs rate', fontweight = 30, fontsize = 20)\n",
    "plt.legend(loc=\"upper right\")\n",
    "plt.show()"
   ]
  },
  {
   "cell_type": "markdown",
   "metadata": {},
   "source": [
    "\n",
    "\n",
    "*You can say that you have the table booking option for Highly rated restaurants.*\n",
    "\n",
    "\n"
   ]
  },
  {
   "cell_type": "markdown",
   "metadata": {},
   "source": [
    "### Cost distribution of all the restaurants in City"
   ]
  },
  {
   "cell_type": "code",
   "execution_count": null,
   "metadata": {
    "_kg_hide-input": true
   },
   "outputs": [],
   "source": [
    "X.head()\n",
    "X.average_cost = X.average_cost.apply(lambda x: x.replace(',',''))\n",
    "X.average_cost = X.average_cost.astype(int)\n",
    "fig, ax = plt.subplots(figsize=[16,4])\n",
    "sns.distplot(X['average_cost'],ax=ax)\n",
    "ax.set_title('Cost Distrubution for all restaurants')"
   ]
  },
  {
   "cell_type": "code",
   "execution_count": null,
   "metadata": {
    "_kg_hide-input": true
   },
   "outputs": [],
   "source": [
    "restaurantTypeCount=data['restaurant_type'].value_counts().sort_values(ascending=True)\n",
    "slices=[restaurantTypeCount[0],\n",
    "        restaurantTypeCount[1],\n",
    "        restaurantTypeCount[2],\n",
    "        restaurantTypeCount[3],\n",
    "        restaurantTypeCount[4],\n",
    "        restaurantTypeCount[5],\n",
    "        restaurantTypeCount[6]]\n",
    "labels=['Pubs and bars','Buffet','Drinks & nightlife','Cafes','Desserts','Dine-out','Delivery ']\n",
    "colors = ['#3333cc','#ffff1a','#ff3333','#c2c2d6','#6699ff','#c4ff4d','#339933']\n",
    "plt.pie(slices,colors=colors, labels=labels, autopct='%1.0f%%', pctdistance=.5, labeldistance=1.2,shadow=True)\n",
    "fig = plt.gcf()\n",
    "plt.title(\"Percentage of Restaurants according to their Type\", bbox={'facecolor':'2', 'pad':5})\n",
    "\n",
    "fig.set_size_inches(12,12)\n",
    "plt.show()"
   ]
  },
  {
   "cell_type": "markdown",
   "metadata": {},
   "source": [
    "## Finding the best restaurants:-\n",
    "### The criteria for best restaurants would be  \n",
    "* **cheapest**,  \n",
    "* **highly rated**, \n",
    "* **reliable**(large number of votes) options."
   ]
  },
  {
   "cell_type": "markdown",
   "metadata": {},
   "source": [
    "#### First step will be to find the restaurants with average cost 1/4th the average cost of most expensive restaurant in our dataframe.\n",
    "\n",
    "\n",
    "*Let me explain:-*\n",
    "The most **expensive** restaurant has an average meal cost= **6000**. We'll try to stay economical and only pick the restaurants that are** 1/4th of 6000.**\n",
    "*Uncomment the comments in code below to get a clearer idea !*"
   ]
  },
  {
   "cell_type": "code",
   "execution_count": null,
   "metadata": {},
   "outputs": [],
   "source": [
    "# X.average_cost.describe()\n",
    "# maxi=X.average_cost.max()\n",
    "# mean=X.rate.mean()\n",
    "# print(mean)\n",
    "X= X.drop_duplicates(subset='name',keep='first')\n",
    "# dups_name = X1.pivot_table(index=['name'],aggfunc='size')\n",
    "newdf=X[['name','average_cost','locality','rest_type','cuisines']].groupby(['average_cost'], sort = True)\n",
    "newdf=newdf.filter(lambda x: x.mean() <= 1500)\n",
    "newdf=newdf.sort_values(by=['average_cost'])\n",
    "\n",
    "newdf_expensive=X[['name','average_cost','locality','rest_type','cuisines']].groupby(['average_cost'], sort = True)\n",
    "newdf_expensive=newdf_expensive.filter(lambda x: x.mean() >= 3000)\n",
    "newdf_expensive=newdf_expensive.sort_values(by=['average_cost'])\n",
    "# newdf"
   ]
  },
  {
   "cell_type": "markdown",
   "metadata": {},
   "source": [
    "**Now lets find the highest rated restaurants i.e rating above 4.5**\n",
    "*Uncomment the last line in code below to get a clearer idea*"
   ]
  },
  {
   "cell_type": "code",
   "execution_count": null,
   "metadata": {},
   "outputs": [],
   "source": [
    "newdf_rate=X[['name','rate']].groupby(['rate'], sort = True)\n",
    "newdf_rate=newdf_rate.filter(lambda x: x.mean() >= 4.5)\n",
    "newdf_rate=newdf_rate.sort_values(by=['rate'])\n",
    "X.rate.value_counts()\n",
    "X.rate.unique()\n",
    "X.nunique()\n",
    "# newdf_rate"
   ]
  },
  {
   "cell_type": "markdown",
   "metadata": {},
   "source": [
    "\n",
    "\n",
    "\n"
   ]
  },
  {
   "cell_type": "markdown",
   "metadata": {},
   "source": [
    "**Now, we'll merge both the dataframes obtained above to get the intersection of both  i.e the highest rated and cheapest restaurants !!**"
   ]
  },
  {
   "cell_type": "code",
   "execution_count": null,
   "metadata": {
    "_kg_hide-input": true
   },
   "outputs": [],
   "source": [
    "s1 = pd.merge(newdf, newdf_rate, how='inner', on=['name'])\n",
    "\n",
    "s2= pd.merge(newdf_expensive, newdf_rate, how='inner', on=['name'])\n",
    "\n",
    "print(\"Cheap restaurants with low cost,high rating \\n\")\n",
    "s1"
   ]
  },
  {
   "cell_type": "markdown",
   "metadata": {},
   "source": [
    "\n",
    "\n",
    "\n"
   ]
  },
  {
   "cell_type": "code",
   "execution_count": null,
   "metadata": {
    "_kg_hide-input": true
   },
   "outputs": [],
   "source": [
    "print(\"Expensive restaurants with high cost,high rating \\n\")\n",
    "s2"
   ]
  },
  {
   "cell_type": "markdown",
   "metadata": {},
   "source": [
    "\n",
    "\n",
    "\n",
    "\n"
   ]
  },
  {
   "cell_type": "markdown",
   "metadata": {},
   "source": [
    "### Find the most reliable restaurants: \n",
    "**Voted more the mean number of votes:- 175**  \n",
    "*Uncomment the last line in code below to get a clearer idea*"
   ]
  },
  {
   "cell_type": "code",
   "execution_count": null,
   "metadata": {},
   "outputs": [],
   "source": [
    "# X1.votes.describe()\n",
    "newdf_votes=X[['name','votes']].groupby(['votes'], sort = True)\n",
    "newdf_votes=newdf_votes.filter(lambda x: x.mean() >= 175)\n",
    "newdf_votes=newdf_votes.sort_values(by=['votes'])\n",
    "# newdf_votes"
   ]
  },
  {
   "cell_type": "markdown",
   "metadata": {},
   "source": [
    "\n",
    "\n",
    "\n",
    "\n",
    "\n",
    "\n"
   ]
  },
  {
   "cell_type": "markdown",
   "metadata": {},
   "source": [
    "## These are the most reliable, highest rated and economical restaurants:- \n",
    "\n",
    "We obtain this dataframe by simply taking the intersection of all the dataframes obtained above.\n",
    "\n",
    "\n",
    "This dataframe obtained below shows the restaurants whose:\n",
    "* Cost is below **1500**\n",
    "* Rating is above **4.5**\n",
    "* Votes are above **175**"
   ]
  },
  {
   "cell_type": "code",
   "execution_count": null,
   "metadata": {
    "_kg_hide-input": true
   },
   "outputs": [],
   "source": [
    "s = pd.merge(s1, newdf_votes, how='inner', on=['name'])\n",
    "s=s.sort_values(by=['average_cost'])\n",
    "print(\"Cheap restaurants,high rating,high votes\")\n",
    "s"
   ]
  },
  {
   "cell_type": "markdown",
   "metadata": {},
   "source": [
    "#### Best restaurant options under 500 Rupees (average cost):-\n",
    "* **Brahmin's Coffee Bar** with average cost=100 and rating=4.8 and votes=2679\n",
    "* **CTR**  with average cost=150 and rating=4.7 and votes=4408\n",
    "* **Veena Stores** with average cost=150 and rating=4.5 and votes=2407\n",
    "* **O.G. Variar & Sons** with average cost=200 and rating=4.8 and votes=1156\n",
    "* **Mavalli Tiffin Room (MTR)** with average cost=250 and rating=4.5 and votes=2896\n",
    "* **Belgian Waffle Factory** with average cost=400 and rating=4.9 and votes=1746\n"
   ]
  },
  {
   "cell_type": "markdown",
   "metadata": {},
   "source": [
    "#### Other findings:-"
   ]
  },
  {
   "cell_type": "markdown",
   "metadata": {},
   "source": [
    "* Also, observe that these cheaper options (cost<500) are all either **Quick Bites, Cafe or Dessert Parlour**.\n",
    "* **Casual Dining restaurants** start above 600\n",
    "* 6 out of 10 of the cheapest restaurants serve **South Indian Cuisine**\n",
    "* As for the **location**, these cheap restaurant option are **scattered and not localised** to any specific location of the city."
   ]
  },
  {
   "cell_type": "markdown",
   "metadata": {},
   "source": [
    "## We can also explore the expensive options :-\n",
    "\n",
    "Here, we are only picking up the restaurants that **cost more than** **3000**(half of most expensive restaurant) and are highest rated , have large votes."
   ]
  },
  {
   "cell_type": "code",
   "execution_count": null,
   "metadata": {
    "_kg_hide-input": true
   },
   "outputs": [],
   "source": [
    "s = pd.merge(s2, newdf_votes, how='inner', on=['name'])\n",
    "s=s.sort_values(by=['average_cost'])\n",
    "s"
   ]
  },
  {
   "cell_type": "markdown",
   "metadata": {},
   "source": [
    "\n",
    "\n",
    "*No surprises there!!*\n",
    "\n",
    "**The Oberoi Hotel, Karavalli and JW Marriott** make this high profile list\n",
    "\n",
    "Interestingly, all these restaurants have the **same location**- **Brigade Road**  and **same restaurant type**- **Fine dining**"
   ]
  },
  {
   "cell_type": "markdown",
   "metadata": {},
   "source": [
    "\n",
    "\n",
    "\n"
   ]
  },
  {
   "cell_type": "markdown",
   "metadata": {},
   "source": [
    "## Please upvote and feel free to give any feedback/comment below!!"
   ]
  }
 ],
 "metadata": {
  "kernelspec": {
   "display_name": "Python 3",
   "language": "python",
   "name": "python3"
  },
  "language_info": {
   "codemirror_mode": {
    "name": "ipython",
    "version": 3
   },
   "file_extension": ".py",
   "mimetype": "text/x-python",
   "name": "python",
   "nbconvert_exporter": "python",
   "pygments_lexer": "ipython3",
   "version": "3.7.4"
  }
 },
 "nbformat": 4,
 "nbformat_minor": 1
}
